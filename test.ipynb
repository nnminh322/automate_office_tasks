{
 "cells": [
  {
   "cell_type": "code",
   "execution_count": 8,
   "id": "5fa13e85",
   "metadata": {},
   "outputs": [],
   "source": [
    "import pandas as pd\n",
    "from pathlib import Path\n",
    "from docxtpl import DocxTemplate\n",
    "\n",
    "thong_tin_chung = pd.read_excel(\"./chidinhthau_data_sample.xlsx\", sheet_name=\"TTCDA\")"
   ]
  },
  {
   "cell_type": "code",
   "execution_count": null,
   "id": "5ac3a693",
   "metadata": {},
   "outputs": [],
   "source": []
  },
  {
   "cell_type": "code",
   "execution_count": null,
   "id": "04733df0",
   "metadata": {},
   "outputs": [
    {
     "ename": "KeyError",
     "evalue": "\"no relationship of type 'http://schemas.openxmlformats.org/officeDocument/2006/relationships/officeDocument' in collection\"",
     "output_type": "error",
     "traceback": [
      "\u001b[31m---------------------------------------------------------------------------\u001b[39m",
      "\u001b[31mKeyError\u001b[39m                                  Traceback (most recent call last)",
      "\u001b[36mCell\u001b[39m\u001b[36m \u001b[39m\u001b[32mIn[10]\u001b[39m\u001b[32m, line 4\u001b[39m\n\u001b[32m      1\u001b[39m WORD_TEMPLATE= Path(\u001b[33m\"\u001b[39m\u001b[33m./chidinhthau_template.doc\u001b[39m\u001b[33m\"\u001b[39m)\n\u001b[32m      3\u001b[39m doc_probe = DocxTemplate(\u001b[38;5;28mstr\u001b[39m(WORD_TEMPLATE))\n\u001b[32m----> \u001b[39m\u001b[32m4\u001b[39m template_keys = \u001b[38;5;28mset\u001b[39m(\u001b[43mdoc_probe\u001b[49m\u001b[43m.\u001b[49m\u001b[43mget_undeclared_template_variables\u001b[49m\u001b[43m(\u001b[49m\u001b[43m{\u001b[49m\u001b[43m}\u001b[49m\u001b[43m)\u001b[49m)\n\u001b[32m      5\u001b[39m \u001b[38;5;28;01mif\u001b[39;00m \u001b[38;5;129;01mnot\u001b[39;00m template_keys:\n\u001b[32m      6\u001b[39m     \u001b[38;5;28;01mraise\u001b[39;00m \u001b[38;5;167;01mValueError\u001b[39;00m(\u001b[33m\"\u001b[39m\u001b[33mTemplate không có biến Jinja2 (\u001b[39m\u001b[33m{{\u001b[39m\u001b[33m...}}).\u001b[39m\u001b[33m\"\u001b[39m)\n",
      "\u001b[36mFile \u001b[39m\u001b[32m~/anaconda3/envs/agents_env/lib/python3.12/site-packages/docxtpl/template.py:895\u001b[39m, in \u001b[36mDocxTemplate.get_undeclared_template_variables\u001b[39m\u001b[34m(self, jinja_env, context)\u001b[39m\n\u001b[32m    889\u001b[39m \u001b[38;5;28;01mdef\u001b[39;00m\u001b[38;5;250m \u001b[39m\u001b[34mget_undeclared_template_variables\u001b[39m(\n\u001b[32m    890\u001b[39m     \u001b[38;5;28mself\u001b[39m,\n\u001b[32m    891\u001b[39m     jinja_env: Optional[Environment] = \u001b[38;5;28;01mNone\u001b[39;00m,\n\u001b[32m    892\u001b[39m     context: Optional[Dict[\u001b[38;5;28mstr\u001b[39m, Any]] = \u001b[38;5;28;01mNone\u001b[39;00m,\n\u001b[32m    893\u001b[39m ) -> Set[\u001b[38;5;28mstr\u001b[39m]:\n\u001b[32m    894\u001b[39m     \u001b[38;5;66;03m# Create a temporary document to analyze the template without affecting the current state\u001b[39;00m\n\u001b[32m--> \u001b[39m\u001b[32m895\u001b[39m     temp_doc = \u001b[43mDocument\u001b[49m\u001b[43m(\u001b[49m\u001b[38;5;28;43mself\u001b[39;49m\u001b[43m.\u001b[49m\u001b[43mtemplate_file\u001b[49m\u001b[43m)\u001b[49m\n\u001b[32m    897\u001b[39m     \u001b[38;5;66;03m# Get XML from the temporary document\u001b[39;00m\n\u001b[32m    898\u001b[39m     xml = \u001b[38;5;28mself\u001b[39m.xml_to_string(temp_doc._element.body)\n",
      "\u001b[36mFile \u001b[39m\u001b[32m~/anaconda3/envs/agents_env/lib/python3.12/site-packages/docx/api.py:27\u001b[39m, in \u001b[36mDocument\u001b[39m\u001b[34m(docx)\u001b[39m\n\u001b[32m     20\u001b[39m \u001b[38;5;250m\u001b[39m\u001b[33;03m\"\"\"Return a |Document| object loaded from `docx`, where `docx` can be either a path\u001b[39;00m\n\u001b[32m     21\u001b[39m \u001b[33;03mto a ``.docx`` file (a string) or a file-like object.\u001b[39;00m\n\u001b[32m     22\u001b[39m \n\u001b[32m     23\u001b[39m \u001b[33;03mIf `docx` is missing or ``None``, the built-in default document \"template\" is\u001b[39;00m\n\u001b[32m     24\u001b[39m \u001b[33;03mloaded.\u001b[39;00m\n\u001b[32m     25\u001b[39m \u001b[33;03m\"\"\"\u001b[39;00m\n\u001b[32m     26\u001b[39m docx = _default_docx_path() \u001b[38;5;28;01mif\u001b[39;00m docx \u001b[38;5;129;01mis\u001b[39;00m \u001b[38;5;28;01mNone\u001b[39;00m \u001b[38;5;28;01melse\u001b[39;00m docx\n\u001b[32m---> \u001b[39m\u001b[32m27\u001b[39m document_part = cast(\u001b[33m\"\u001b[39m\u001b[33mDocumentPart\u001b[39m\u001b[33m\"\u001b[39m, \u001b[43mPackage\u001b[49m\u001b[43m.\u001b[49m\u001b[43mopen\u001b[49m\u001b[43m(\u001b[49m\u001b[43mdocx\u001b[49m\u001b[43m)\u001b[49m\u001b[43m.\u001b[49m\u001b[43mmain_document_part\u001b[49m)\n\u001b[32m     28\u001b[39m \u001b[38;5;28;01mif\u001b[39;00m document_part.content_type != CT.WML_DOCUMENT_MAIN:\n\u001b[32m     29\u001b[39m     tmpl = \u001b[33m\"\u001b[39m\u001b[33mfile \u001b[39m\u001b[33m'\u001b[39m\u001b[38;5;132;01m%s\u001b[39;00m\u001b[33m'\u001b[39m\u001b[33m is not a Word file, content type is \u001b[39m\u001b[33m'\u001b[39m\u001b[38;5;132;01m%s\u001b[39;00m\u001b[33m'\u001b[39m\u001b[33m\"\u001b[39m\n",
      "\u001b[36mFile \u001b[39m\u001b[32m~/anaconda3/envs/agents_env/lib/python3.12/site-packages/docx/opc/package.py:107\u001b[39m, in \u001b[36mOpcPackage.main_document_part\u001b[39m\u001b[34m(self)\u001b[39m\n\u001b[32m     99\u001b[39m \u001b[38;5;129m@property\u001b[39m\n\u001b[32m    100\u001b[39m \u001b[38;5;28;01mdef\u001b[39;00m\u001b[38;5;250m \u001b[39m\u001b[34mmain_document_part\u001b[39m(\u001b[38;5;28mself\u001b[39m):\n\u001b[32m    101\u001b[39m \u001b[38;5;250m    \u001b[39m\u001b[33;03m\"\"\"Return a reference to the main document part for this package.\u001b[39;00m\n\u001b[32m    102\u001b[39m \n\u001b[32m    103\u001b[39m \u001b[33;03m    Examples include a document part for a WordprocessingML package, a presentation\u001b[39;00m\n\u001b[32m    104\u001b[39m \u001b[33;03m    part for a PresentationML package, or a workbook part for a SpreadsheetML\u001b[39;00m\n\u001b[32m    105\u001b[39m \u001b[33;03m    package.\u001b[39;00m\n\u001b[32m    106\u001b[39m \u001b[33;03m    \"\"\"\u001b[39;00m\n\u001b[32m--> \u001b[39m\u001b[32m107\u001b[39m     \u001b[38;5;28;01mreturn\u001b[39;00m \u001b[38;5;28;43mself\u001b[39;49m\u001b[43m.\u001b[49m\u001b[43mpart_related_by\u001b[49m\u001b[43m(\u001b[49m\u001b[43mRT\u001b[49m\u001b[43m.\u001b[49m\u001b[43mOFFICE_DOCUMENT\u001b[49m\u001b[43m)\u001b[49m\n",
      "\u001b[36mFile \u001b[39m\u001b[32m~/anaconda3/envs/agents_env/lib/python3.12/site-packages/docx/opc/package.py:137\u001b[39m, in \u001b[36mOpcPackage.part_related_by\u001b[39m\u001b[34m(self, reltype)\u001b[39m\n\u001b[32m    131\u001b[39m \u001b[38;5;28;01mdef\u001b[39;00m\u001b[38;5;250m \u001b[39m\u001b[34mpart_related_by\u001b[39m(\u001b[38;5;28mself\u001b[39m, reltype: \u001b[38;5;28mstr\u001b[39m) -> Part:\n\u001b[32m    132\u001b[39m \u001b[38;5;250m    \u001b[39m\u001b[33;03m\"\"\"Return part to which this package has a relationship of `reltype`.\u001b[39;00m\n\u001b[32m    133\u001b[39m \n\u001b[32m    134\u001b[39m \u001b[33;03m    Raises |KeyError| if no such relationship is found and |ValueError| if more than\u001b[39;00m\n\u001b[32m    135\u001b[39m \u001b[33;03m    one such relationship is found.\u001b[39;00m\n\u001b[32m    136\u001b[39m \u001b[33;03m    \"\"\"\u001b[39;00m\n\u001b[32m--> \u001b[39m\u001b[32m137\u001b[39m     \u001b[38;5;28;01mreturn\u001b[39;00m \u001b[38;5;28;43mself\u001b[39;49m\u001b[43m.\u001b[49m\u001b[43mrels\u001b[49m\u001b[43m.\u001b[49m\u001b[43mpart_with_reltype\u001b[49m\u001b[43m(\u001b[49m\u001b[43mreltype\u001b[49m\u001b[43m)\u001b[49m\n",
      "\u001b[36mFile \u001b[39m\u001b[32m~/anaconda3/envs/agents_env/lib/python3.12/site-packages/docx/opc/rel.py:52\u001b[39m, in \u001b[36mRelationships.part_with_reltype\u001b[39m\u001b[34m(self, reltype)\u001b[39m\n\u001b[32m     49\u001b[39m \u001b[38;5;28;01mdef\u001b[39;00m\u001b[38;5;250m \u001b[39m\u001b[34mpart_with_reltype\u001b[39m(\u001b[38;5;28mself\u001b[39m, reltype: \u001b[38;5;28mstr\u001b[39m) -> Part:\n\u001b[32m     50\u001b[39m \u001b[38;5;250m    \u001b[39m\u001b[33;03m\"\"\"Return target part of rel with matching `reltype`, raising |KeyError| if not\u001b[39;00m\n\u001b[32m     51\u001b[39m \u001b[33;03m    found and |ValueError| if more than one matching relationship is found.\"\"\"\u001b[39;00m\n\u001b[32m---> \u001b[39m\u001b[32m52\u001b[39m     rel = \u001b[38;5;28;43mself\u001b[39;49m\u001b[43m.\u001b[49m\u001b[43m_get_rel_of_type\u001b[49m\u001b[43m(\u001b[49m\u001b[43mreltype\u001b[49m\u001b[43m)\u001b[49m\n\u001b[32m     53\u001b[39m     \u001b[38;5;28;01mreturn\u001b[39;00m rel.target_part\n",
      "\u001b[36mFile \u001b[39m\u001b[32m~/anaconda3/envs/agents_env/lib/python3.12/site-packages/docx/opc/rel.py:98\u001b[39m, in \u001b[36mRelationships._get_rel_of_type\u001b[39m\u001b[34m(self, reltype)\u001b[39m\n\u001b[32m     96\u001b[39m \u001b[38;5;28;01mif\u001b[39;00m \u001b[38;5;28mlen\u001b[39m(matching) == \u001b[32m0\u001b[39m:\n\u001b[32m     97\u001b[39m     tmpl = \u001b[33m\"\u001b[39m\u001b[33mno relationship of type \u001b[39m\u001b[33m'\u001b[39m\u001b[38;5;132;01m%s\u001b[39;00m\u001b[33m'\u001b[39m\u001b[33m in collection\u001b[39m\u001b[33m\"\u001b[39m\n\u001b[32m---> \u001b[39m\u001b[32m98\u001b[39m     \u001b[38;5;28;01mraise\u001b[39;00m \u001b[38;5;167;01mKeyError\u001b[39;00m(tmpl % reltype)\n\u001b[32m     99\u001b[39m \u001b[38;5;28;01mif\u001b[39;00m \u001b[38;5;28mlen\u001b[39m(matching) > \u001b[32m1\u001b[39m:\n\u001b[32m    100\u001b[39m     tmpl = \u001b[33m\"\u001b[39m\u001b[33mmultiple relationships of type \u001b[39m\u001b[33m'\u001b[39m\u001b[38;5;132;01m%s\u001b[39;00m\u001b[33m'\u001b[39m\u001b[33m in collection\u001b[39m\u001b[33m\"\u001b[39m\n",
      "\u001b[31mKeyError\u001b[39m: \"no relationship of type 'http://schemas.openxmlformats.org/officeDocument/2006/relationships/officeDocument' in collection\""
     ]
    }
   ],
   "source": [
    "WORD_TEMPLATE= Path(\"./chidinhthau_template.docx\")\n",
    "\n",
    "doc_probe = DocxTemplate(str(WORD_TEMPLATE))\n",
    "template_keys = set(doc_probe.get_undeclared_template_variables({}))\n",
    "if not template_keys:\n",
    "    raise ValueError(\"Template không có biến Jinja2 ({{...}}).\")\n",
    "\n",
    "def clean_header_cell(v):\n",
    "    if pd.isna(v): return \"\"\n",
    "    return str(v).replace(\"\\ufeff\", \"\").strip()\n",
    "\n",
    "header_row_idx = None\n",
    "col_index_by_key = {}\n",
    "for i in range(len(thong_tin_chung)):\n",
    "    row_vals = [clean_header_cell(x) for x in thong_tin_chung.iloc[i].tolist()]\n",
    "    mapping = {}\n",
    "    ok = True\n",
    "    for key in template_keys:\n",
    "        try:\n",
    "            j = row_vals.index(key)  \n",
    "            mapping[key] = j\n",
    "        except ValueError:\n",
    "            ok = False\n",
    "            break\n",
    "    if ok:\n",
    "        header_row_idx = i\n",
    "        col_index_by_key = mapping\n",
    "        break"
   ]
  },
  {
   "cell_type": "code",
   "execution_count": null,
   "id": "f62f3364",
   "metadata": {},
   "outputs": [],
   "source": []
  }
 ],
 "metadata": {
  "kernelspec": {
   "display_name": "agents_env",
   "language": "python",
   "name": "python3"
  },
  "language_info": {
   "codemirror_mode": {
    "name": "ipython",
    "version": 3
   },
   "file_extension": ".py",
   "mimetype": "text/x-python",
   "name": "python",
   "nbconvert_exporter": "python",
   "pygments_lexer": "ipython3",
   "version": "3.12.11"
  }
 },
 "nbformat": 4,
 "nbformat_minor": 5
}
